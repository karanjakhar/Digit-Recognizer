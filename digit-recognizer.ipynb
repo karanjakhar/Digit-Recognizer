{
 "cells": [
  {
   "cell_type": "code",
   "execution_count": 1,
   "metadata": {
    "_cell_guid": "b1076dfc-b9ad-4769-8c92-a6c4dae69d19",
    "_uuid": "8f2839f25d086af736a60e9eeb907d3b93b6e0e5"
   },
   "outputs": [
    {
     "name": "stderr",
     "output_type": "stream",
     "text": [
      "Using TensorFlow backend.\n"
     ]
    },
    {
     "name": "stdout",
     "output_type": "stream",
     "text": [
      "['train.csv', 'test.csv', 'sample_submission.csv']\n"
     ]
    }
   ],
   "source": [
    "\n",
    "\n",
    "import numpy as np # linear algebra\n",
    "import pandas as pd # data processing, CSV file I/O (e.g. pd.read_csv)\n",
    "import seaborn as sns \n",
    "import matplotlib.pyplot as plt\n",
    "\n",
    "from sklearn.model_selection import train_test_split\n",
    "from keras.layers import Conv2D,MaxPool2D,Dense,Flatten,Dropout\n",
    "from keras.models import Sequential\n",
    "from keras.utils.np_utils import to_categorical # to convert one hot encoding\n",
    "from keras.optimizers import Adam\n",
    "import os\n",
    "print(os.listdir(\"../input\"))\n",
    "sns.set(style='white', context='notebook', palette='deep')\n",
    "\n"
   ]
  },
  {
   "cell_type": "code",
   "execution_count": 2,
   "metadata": {
    "_cell_guid": "79c7e3d0-c299-4dcb-8224-4455121ee9b0",
    "_uuid": "d629ff2d2480ee46fbb7e2d37f6b5fab8052498a"
   },
   "outputs": [],
   "source": [
    "#loading data\n",
    "train_data = pd.read_csv('../input/train.csv')\n",
    "test_data = pd.read_csv('../input/test.csv')\n"
   ]
  },
  {
   "cell_type": "code",
   "execution_count": 3,
   "metadata": {
    "_uuid": "76ed51f488aedc333b203de38061f0d9bf59720d"
   },
   "outputs": [
    {
     "data": {
      "image/png": "[encoded data removed]",
      "text/plain": [
       "<Figure size 432x288 with 1 Axes>"
      ]
     },
     "metadata": {},
     "output_type": "display_data"
    }
   ],
   "source": [
    "Y_train = train_data['label']\n",
    "#Y_train.value_counts().plot.bar()\n",
    "sns.countplot(Y_train)\n",
    "X_train = train_data.drop('label',axis = 1)\n",
    "del train_data"
   ]
  },
  {
   "cell_type": "code",
   "execution_count": 4,
   "metadata": {
    "_uuid": "d2ea622cc1372c33441eb563a185263e404fe3e4"
   },
   "outputs": [
    {
     "data": {
      "text/plain": [
       "count       784\n",
       "unique        1\n",
       "top       False\n",
       "freq        784\n",
       "dtype: object"
      ]
     },
     "execution_count": 4,
     "metadata": {},
     "output_type": "execute_result"
    }
   ],
   "source": [
    "X_train.isnull().any().describe()"
   ]
  },
  {
   "cell_type": "code",
   "execution_count": 5,
   "metadata": {
    "_uuid": "df994a662421a369c3829ded32a79c3ac96a3fba"
   },
   "outputs": [
    {
     "data": {
      "text/plain": [
       "count       784\n",
       "unique        1\n",
       "top       False\n",
       "freq        784\n",
       "dtype: object"
      ]
     },
     "execution_count": 5,
     "metadata": {},
     "output_type": "execute_result"
    }
   ],
   "source": [
    "test_data.isnull().any().describe()"
   ]
  },
  {
   "cell_type": "code",
   "execution_count": 6,
   "metadata": {
    "_uuid": "574a53e51409b10fc71436fb90521f3c00b4b99f"
   },
   "outputs": [
    {
     "data": {
      "text/plain": [
       "pandas.core.frame.DataFrame"
      ]
     },
     "execution_count": 6,
     "metadata": {},
     "output_type": "execute_result"
    }
   ],
   "source": [
    "#Normalisation\n",
    "\n",
    "X_train = X_train/255.0\n",
    "test_data = test_data/255.0\n",
    "type(X_train)"
   ]
  },
  {
   "cell_type": "code",
   "execution_count": 7,
   "metadata": {
    "_uuid": "2dc284923ff378ecd6514b93a656a3d8aaf2f204"
   },
   "outputs": [
    {
     "data": {
      "text/plain": [
       "numpy.ndarray"
      ]
     },
     "execution_count": 7,
     "metadata": {},
     "output_type": "execute_result"
    }
   ],
   "source": [
    "#reshape\n",
    "X_train = X_train.values.reshape(-1,28,28,1)\n",
    "test_data = test_data.values.reshape(-1,28,28,1)\n",
    "type(X_train)"
   ]
  },
  {
   "cell_type": "code",
   "execution_count": 8,
   "metadata": {
    "_uuid": "ecbfd5f2dce12a3b1d068aa1704a63b2cadca2d3"
   },
   "outputs": [],
   "source": [
    "#label\n",
    "Y_train = to_categorical(Y_train,num_classes = 10)"
   ]
  },
  {
   "cell_type": "code",
   "execution_count": 9,
   "metadata": {
    "_uuid": "8e476f591796dfff9bb7afa13e1413d735819bc6"
   },
   "outputs": [
    {
     "data": {
      "text/plain": [
       "numpy.ndarray"
      ]
     },
     "execution_count": 9,
     "metadata": {},
     "output_type": "execute_result"
    }
   ],
   "source": [
    "#spliting training and testing data\n",
    "random_seed = 2\n",
    "X_train,test_X,Y_train,test_Y = train_test_split(X_train,Y_train,test_size = 0.1,random_state = random_seed)\n",
    "type(X_train)"
   ]
  },
  {
   "cell_type": "code",
   "execution_count": 10,
   "metadata": {
    "_uuid": "9ab716fedf486f738e6634612de7cb9cd7abb4a8"
   },
   "outputs": [
    {
     "data": {
      "image/png": "[encoded data removed]",
      "text/plain": [
       "<Figure size 432x288 with 1 Axes>"
      ]
     },
     "metadata": {},
     "output_type": "display_data"
    }
   ],
   "source": [
    "g = plt.imshow(X_train[0][:,:,0])"
   ]
  },
  {
   "cell_type": "code",
   "execution_count": 11,
   "metadata": {
    "_uuid": "a6011220253d8a31a0b9a19b5de692ea2e323435"
   },
   "outputs": [
    {
     "name": "stdout",
     "output_type": "stream",
     "text": [
      "WARNING:tensorflow:From /opt/conda/lib/python3.6/site-packages/tensorflow/python/framework/op_def_library.py:263: colocate_with (from tensorflow.python.framework.ops) is deprecated and will be removed in a future version.\n",
      "Instructions for updating:\n",
      "Colocations handled automatically by placer.\n"
     ]
    }
   ],
   "source": [
    "model = Sequential()\n",
    "model.add(Conv2D(filters = 32,kernel_size = (3,3),input_shape = (28,28,1),activation = 'relu',padding = 'same'))\n",
    "model.add(MaxPool2D((2,2)))\n",
    "model.add(Conv2D(filters = 64,kernel_size = (3,3),padding = 'same',activation = 'relu'))\n",
    "model.add(MaxPool2D(2,2))\n",
    "model.add(Conv2D(64,kernel_size = (3,3),padding = 'same',activation = 'relu'))\n",
    "\n",
    "model.add(Flatten())\n",
    "model.add(Dense(64,activation = 'relu'))\n",
    "\n",
    "model.add(Dense(10,activation = 'softmax'))\n"
   ]
  },
  {
   "cell_type": "code",
   "execution_count": 12,
   "metadata": {
    "_uuid": "561a97359c96a80172abbe25da5395a995a47acb"
   },
   "outputs": [],
   "source": [
    "\n",
    "model.compile(optimizer = 'adam',loss = 'categorical_crossentropy',metrics = ['accuracy'])\n"
   ]
  },
  {
   "cell_type": "code",
   "execution_count": 13,
   "metadata": {
    "_uuid": "aeb92742d9db987506dbdc08ec023184387181c2"
   },
   "outputs": [
    {
     "name": "stdout",
     "output_type": "stream",
     "text": [
      "WARNING:tensorflow:From /opt/conda/lib/python3.6/site-packages/tensorflow/python/ops/math_ops.py:3066: to_int32 (from tensorflow.python.ops.math_ops) is deprecated and will be removed in a future version.\n",
      "Instructions for updating:\n",
      "Use tf.cast instead.\n",
      "Train on 37800 samples, validate on 4200 samples\n",
      "Epoch 1/10\n",
      "37800/37800 [==============================] - 4s 112us/step - loss: 0.2328 - acc: 0.9268 - val_loss: 0.0951 - val_acc: 0.9714\n",
      "Epoch 2/10\n",
      "37800/37800 [==============================] - 2s 50us/step - loss: 0.0622 - acc: 0.9810 - val_loss: 0.0523 - val_acc: 0.9831\n",
      "Epoch 3/10\n",
      "37800/37800 [==============================] - 2s 50us/step - loss: 0.0405 - acc: 0.9871 - val_loss: 0.0437 - val_acc: 0.9860\n",
      "Epoch 4/10\n",
      "37800/37800 [==============================] - 2s 50us/step - loss: 0.0305 - acc: 0.9906 - val_loss: 0.0441 - val_acc: 0.9876\n",
      "Epoch 5/10\n",
      "37800/37800 [==============================] - 2s 50us/step - loss: 0.0230 - acc: 0.9927 - val_loss: 0.0384 - val_acc: 0.9888\n",
      "Epoch 6/10\n",
      "37800/37800 [==============================] - 2s 50us/step - loss: 0.0188 - acc: 0.9939 - val_loss: 0.0485 - val_acc: 0.9869\n",
      "Epoch 7/10\n",
      "37800/37800 [==============================] - 2s 50us/step - loss: 0.0178 - acc: 0.9945 - val_loss: 0.0457 - val_acc: 0.9900\n",
      "Epoch 8/10\n",
      "37800/37800 [==============================] - 2s 50us/step - loss: 0.0124 - acc: 0.9958 - val_loss: 0.0498 - val_acc: 0.9879\n",
      "Epoch 9/10\n",
      "37800/37800 [==============================] - 2s 50us/step - loss: 0.0115 - acc: 0.9962 - val_loss: 0.0342 - val_acc: 0.9924\n",
      "Epoch 10/10\n",
      "37800/37800 [==============================] - 2s 50us/step - loss: 0.0123 - acc: 0.9958 - val_loss: 0.0435 - val_acc: 0.9883\n"
     ]
    },
    {
     "data": {
      "text/plain": [
       "<keras.callbacks.History at 0x7f25f8255a20>"
      ]
     },
     "execution_count": 13,
     "metadata": {},
     "output_type": "execute_result"
    }
   ],
   "source": [
    "model.fit(x = X_train,y = Y_train,batch_size = 100,epochs = 10,validation_data=(test_X,test_Y))"
   ]
  },
  {
   "cell_type": "code",
   "execution_count": 14,
   "metadata": {
    "_uuid": "146c15d15f44e122d2fcb2e63701e39a7712bab9"
   },
   "outputs": [],
   "source": [
    "result = model.predict(test_data)"
   ]
  },
  {
   "cell_type": "code",
   "execution_count": 15,
   "metadata": {
    "_uuid": "959eaf2f623833fef58f0ae5075dbec0a18e734b"
   },
   "outputs": [
    {
     "data": {
      "text/plain": [
       "array([2, 0, 9, ..., 3, 9, 2])"
      ]
     },
     "execution_count": 15,
     "metadata": {},
     "output_type": "execute_result"
    }
   ],
   "source": [
    "results = np.argmax(result,axis = 1)\n",
    "results"
   ]
  },
  {
   "cell_type": "code",
   "execution_count": 16,
   "metadata": {
    "_uuid": "dba574c2d7b19c9bb15c7a50f4a2dbb51705b1c2"
   },
   "outputs": [],
   "source": [
    "Label = pd.Series(results,name = 'Label')\n",
    "ImageId = pd.Series(range(1,28001),name = 'ImageId')\n",
    "submission = pd.concat([ImageId,Label],axis = 1)\n",
    "submission.to_csv('submission.csv',index = False)"
   ]
  }
 ],
 "metadata": {
  "kernelspec": {
   "display_name": "Python 3",
   "language": "python",
   "name": "python3"
  },
  "language_info": {
   "codemirror_mode": {
    "name": "ipython",
    "version": 3
   },
   "file_extension": ".py",
   "mimetype": "text/x-python",
   "name": "python",
   "nbconvert_exporter": "python",
   "pygments_lexer": "ipython3",
   "version": "3.6.6"
  }
 },
 "nbformat": 4,
 "nbformat_minor": 1
}
